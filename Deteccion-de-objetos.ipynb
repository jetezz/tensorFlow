{
 "cells": [
  {
   "cell_type": "markdown",
   "metadata": {
    "colab_type": "text",
    "id": "GaTTQ6iSRVZx"
   },
   "source": [
    "# Tensorflow 2 Deteccion de objetos\n",
    "\n"
   ]
  },
  {
   "cell_type": "markdown",
   "metadata": {},
   "source": [
    "\n",
    "### Es necesario tener una serie de instalaciones antes de realizar el ejercicio\n",
    "-anaconda      https://www.anaconda.com/products/individual\n",
    "\n",
    "-Toolkit 11.0  https://developer.nvidia.com/cuda-11.0-download-archive\n",
    "\n",
    "-cuDNN 8.0.4   https://developer.nvidia.com/rdp/cudnn-archive\n",
    "\n",
    "-docker        https://www.docker.com/products/docker-desktop\n",
    "\n",
    "-protoc 3.15.8 https://github.com/protocolbuffers/protobuf/releases"
   ]
  },
  {
   "cell_type": "code",
   "execution_count": null,
   "metadata": {},
   "outputs": [],
   "source": [
    "#creamos el entotorno en conda\n",
    "!conda create -n tensorflow python=3.6 -y\n",
    "!conda activate tensorflow"
   ]
  },
  {
   "cell_type": "markdown",
   "metadata": {},
   "source": [
    "## Vamos a hacer la instalacion de tensorflow y models"
   ]
  },
  {
   "cell_type": "code",
   "execution_count": null,
   "metadata": {},
   "outputs": [],
   "source": [
    "#vamos a nuestra carpeta de tensorflow\n",
    "cd c:/tensorflow\n",
    "#instalamos la version de gpu para tensorflow\n",
    "!pip install tensorflow-gpu==2.4"
   ]
  },
  {
   "cell_type": "code",
   "execution_count": null,
   "metadata": {},
   "outputs": [],
   "source": [
    "cd  c:/tensorflow/models"
   ]
  },
  {
   "cell_type": "code",
   "execution_count": null,
   "metadata": {},
   "outputs": [],
   "source": [
    "#Instalamos tf2 #ESTO EN PRINCIPIO NO ES NECESARIO PERO A MI SIN ESTO NO ME HACE EL ENTRENAMIENTO CON LA GRAFICA \n",
    "!docker build -f research/object_detection/dockerfiles/tf2/Dockerfile -t od ."
   ]
  },
  {
   "cell_type": "markdown",
   "metadata": {},
   "source": [
    "### Vamos a comprobar que tensorflow-gpu reconoce la grafica "
   ]
  },
  {
   "cell_type": "code",
   "execution_count": null,
   "metadata": {},
   "outputs": [],
   "source": [
    "import tensorflow as tf \n",
    "\n",
    "if tf.test.gpu_device_name(): \n",
    "\n",
    "    print('Default GPU Device:    {}'.format(tf.test.gpu_device_name()))\n",
    "\n",
    "else:\n",
    "\n",
    "   print(\"Please install GPU version of TF\")"
   ]
  },
  {
   "cell_type": "markdown",
   "metadata": {},
   "source": [
    "### Vamos a hacer la instalacion de tensorflow y la api de deteccion de objetos"
   ]
  },
  {
   "cell_type": "code",
   "execution_count": null,
   "metadata": {},
   "outputs": [],
   "source": [
    "cd  c:/tensorflow/models"
   ]
  },
  {
   "cell_type": "markdown",
   "metadata": {},
   "source": [
    "### Instalamos el procot\n",
    "\n",
    "Puedes copiar el protoc.exe a la carpeta tensorflow o cambiar la ruta a donde lo tienes guardado"
   ]
  },
  {
   "cell_type": "code",
   "execution_count": null,
   "metadata": {},
   "outputs": [],
   "source": [
    "cd  c:/tensorflow/models/research"
   ]
  },
  {
   "cell_type": "code",
   "execution_count": null,
   "metadata": {},
   "outputs": [],
   "source": [
    "!C:/tensorflow/protoc object_detection/protos/*.proto --python_out=."
   ]
  },
  {
   "cell_type": "code",
   "execution_count": null,
   "metadata": {},
   "outputs": [],
   "source": [
    "!python -m pip install --use-feature=2020-resolver ."
   ]
  },
  {
   "cell_type": "markdown",
   "metadata": {},
   "source": [
    "### Comprobamos que esta todo correcto con el text"
   ]
  },
  {
   "cell_type": "code",
   "execution_count": null,
   "metadata": {},
   "outputs": [],
   "source": [
    "!python object_detection/builders/model_builder_tf2_test.py"
   ]
  },
  {
   "cell_type": "code",
   "execution_count": null,
   "metadata": {},
   "outputs": [],
   "source": [
    "#necesitamos instalar pandas\n",
    "!pip install pandas"
   ]
  },
  {
   "cell_type": "markdown",
   "metadata": {},
   "source": [
    "## Entrenamiento\n",
    "ya teniendo el modelo descargado y loas archivos con los datos en TFRecord podemos empezar el entrenamiento"
   ]
  },
  {
   "cell_type": "code",
   "execution_count": null,
   "metadata": {},
   "outputs": [],
   "source": [
    "cd C:\\TensorFlow\\workspace\\training_demo"
   ]
  },
  {
   "cell_type": "code",
   "execution_count": null,
   "metadata": {},
   "outputs": [],
   "source": [
    "#este entrenamiento tarda mucho, es romenendable tenerlo un par de horas minimo\n",
    "!python model_main_tf2.py --model_dir=models\\my_ssd_mobilenet_v2_fpnlite --pipeline_config_path=models\\my_ssd_mobilenet_v2_fpnlite\\pipeline.config"
   ]
  },
  {
   "cell_type": "code",
   "execution_count": null,
   "metadata": {},
   "outputs": [],
   "source": []
  }
 ],
 "metadata": {
  "accelerator": "GPU",
  "colab": {
   "collapsed_sections": [
    "KNT9cI_ZSCla",
    "Iz1sd2reSTxg"
   ],
   "name": "Tensorflow 2 Object Detection: Train model.ipynb",
   "provenance": [],
   "toc_visible": true
  },
  "kernelspec": {
   "display_name": "Python 3",
   "language": "python",
   "name": "python3"
  },
  "language_info": {
   "codemirror_mode": {
    "name": "ipython",
    "version": 3
   },
   "file_extension": ".py",
   "mimetype": "text/x-python",
   "name": "python",
   "nbconvert_exporter": "python",
   "pygments_lexer": "ipython3",
   "version": "3.8.8"
  }
 },
 "nbformat": 4,
 "nbformat_minor": 1
}
